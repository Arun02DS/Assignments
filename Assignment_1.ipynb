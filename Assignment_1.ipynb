{
 "cells": [
  {
   "cell_type": "raw",
   "id": "76bf1770",
   "metadata": {},
   "source": [
    "1. In the below elements which of them are values or an expression? eg:- values can be\n",
    "integer or string and expressions will be mathematical operators.\n",
    "* \n",
    "&#39;hello&#39;\n",
    "-87.8\n",
    "-\n",
    "/\n",
    "+\n",
    "6"
   ]
  },
  {
   "cell_type": "raw",
   "id": "ffe839eb",
   "metadata": {},
   "source": [
    "* expression\n",
    "- expression\n",
    "/ expression\n",
    "+ expression\n",
    "&#39; values\n",
    "hello&#39; values\n",
    "-87.8 values"
   ]
  },
  {
   "cell_type": "raw",
   "id": "adee08e9",
   "metadata": {},
   "source": [
    "2. What is the difference between string and variable?\n",
    "\n",
    "String is a data type but variable is a assignment of datatypes. We can assign any datatype to a variable.\n",
    "For example:\n",
    "     s = \"erettvv%vggbb&*8\"\n",
    "        s is string, which is a datatype. We can reassign s to some other value like a int tpye or float type.Anything assigned inside a sigle quote or double quote is called string.\n",
    "    s = 34\n",
    "    Here, s has new value. s is a variable in this case. s took string datatype first then it took int type data."
   ]
  },
  {
   "cell_type": "raw",
   "id": "5d474671",
   "metadata": {},
   "source": [
    "3. Describe three different data types.\n",
    "\n",
    "Datatype: \n",
    "    1.Integer\n",
    "    2.Float\n",
    "    3.Boolean\n",
    "Interger: It is a datatype which take whole numbers (0 + all natural numbers). In python we can assign or take input \n",
    "    for interger type by using symbol int().\n",
    "    \n",
    "Float: All the numbers which are in decimal format, fall under this category of datatype.It is represented by float() in python.\n",
    "    \n",
    "Boolean: This datatype takes values True and False. Also, It consider True as 1 and False as 0.\n",
    "    "
   ]
  },
  {
   "cell_type": "raw",
   "id": "ffee9e1d",
   "metadata": {},
   "source": [
    "4. What is an expression made up of? What do all expressions do?\n",
    "\n",
    "Expressiona are the combination of operators and operands to give an output.It acts according to the precedence.\n",
    "\n",
    "For example:\n",
    "    3*8 = 24 \n",
    "Following are the types of expression:\n",
    "    1. Constant expression\n",
    "    x=34+4.5\n",
    "    print(x)\n",
    "    \n",
    "    2. Arthmatic expression\n",
    "    x=34\n",
    "    y=4\n",
    "    add = x+y\n",
    "    sub = x-y\n",
    "    print(add)\n",
    "    print(sub)\n",
    "    \n",
    "    3. Integral Expression\n",
    "    a=34\n",
    "    b=12.0\n",
    "    add = a+int(b)\n",
    "    print(add)\n",
    "    \n",
    "    4. Floating expression\n",
    "    a=34\n",
    "    b=12\n",
    "    c=a/b\n",
    "    print(c)\n",
    "    \n",
    "    5. Relational expression\n",
    "    (a+b)>=(c-d)\n",
    "    \n",
    "    6. Logical expression\n",
    "    and,or,not\n",
    "    \n",
    "    7. Bitwise expression\n",
    "    a= 40\n",
    "    x=a<<2\n",
    "    y=a<<1\n",
    "    \n",
    "    print(x,y)\n",
    "    \n",
    "    8. Combinational expression\n",
    "    Combination of abov mentioned expressions.\n",
    "    \n",
    "Rule of precedence:\n",
    "    First open parentheses in order round,squareand curly. then solve for exponential,unary plus and minus,complement.\n",
    "    \n",
    "    mutiply,Divide,mode --> addition,substraction --> shift operators --> bitwise AND,XOR,OR --> comparision operator\n",
    "    --> equality,comparision --> identity and membership,logical.\n",
    "    "
   ]
  },
  {
   "cell_type": "raw",
   "id": "2a7f5331",
   "metadata": {},
   "source": [
    "5. This assignment statements, like spam = 10. What is the difference between an\n",
    "expression and a statement?\n",
    "\n",
    "Anything written as a code in python is statement. like a=\"spam\" or if statement, while statement.\n",
    "expression are also statement which includes operators and operand to give some kind of value."
   ]
  },
  {
   "cell_type": "raw",
   "id": "057f4c2e",
   "metadata": {},
   "source": [
    "6. After running the following code, what does the variable bacon contain?\n",
    "bacon = 22\n",
    "bacon + 1\n",
    "\n",
    "It gives an output which is increased the value by 1."
   ]
  },
  {
   "cell_type": "raw",
   "id": "e7e541ca",
   "metadata": {},
   "source": [
    "7. What should the values of the following two terms be?\n",
    "'spam' + 'spamspam'\n",
    "'spam' * 3\n",
    "\n",
    "It will provide the same output 'spamspamspam'.\n"
   ]
  },
  {
   "cell_type": "raw",
   "id": "abf222e7",
   "metadata": {},
   "source": [
    "8. Why is eggs a valid variable name while 100 is invalid?\n",
    "\n",
    "A variable name cannot start with a number. For example, 100 = 100 is not valid 0r \n",
    "100a = 'dog' not valid but d1 = 100 is valid variable."
   ]
  },
  {
   "cell_type": "raw",
   "id": "ca492dcd",
   "metadata": {},
   "source": [
    "9. What three functions can be used to get the integer, floating-point number, or string version of a value?\n",
    "\n",
    "To  get a integer we use int()\n",
    "To  get a floating point number we use float()\n",
    "To  get a string we use str()\n"
   ]
  },
  {
   "cell_type": "raw",
   "id": "219b5637",
   "metadata": {},
   "source": [
    "10. Why does this expression cause an error? How can you fix it?\n",
    "'I have eaten ' + 99 + ' burritos.'\n",
    "\n",
    "Two different data types cannot concatenate. Tp fix the error we use. 'I have eaten ' + str(99) + ' burritos.'"
   ]
  }
 ],
 "metadata": {
  "kernelspec": {
   "display_name": "Python 3 (ipykernel)",
   "language": "python",
   "name": "python3"
  },
  "language_info": {
   "codemirror_mode": {
    "name": "ipython",
    "version": 3
   },
   "file_extension": ".py",
   "mimetype": "text/x-python",
   "name": "python",
   "nbconvert_exporter": "python",
   "pygments_lexer": "ipython3",
   "version": "3.9.7"
  }
 },
 "nbformat": 4,
 "nbformat_minor": 5
}
